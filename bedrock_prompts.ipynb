{
 "cells": [
  {
   "cell_type": "markdown",
   "id": "88a5ab2f-d044-4956-b75b-7408d9c3e323",
   "metadata": {},
   "source": [
    "# Generative AI Media Entertainment Workshop\n",
    "## Prompt Engineering with Amazon Bedrock\n",
    "\n",
    "> *This notebook should work well with the **`Python 3`** kernel in SageMaker Studio*\n",
    "\n",
    "---\n",
    "\n",
    "In this demo notebook, we demonstrate how to use the [`boto3` Python SDK](https://boto3.amazonaws.com/v1/documentation/api/latest/index.html) to work with [Amazon Bedrock](https://aws.amazon.com/bedrock/) Foundation Models.\n",
    "\n",
    "---"
   ]
  },
  {
   "cell_type": "markdown",
   "id": "6aeedd9f-f0a3-4f8e-934d-22f6f7a89de5",
   "metadata": {},
   "source": [
    "## Prerequisites\n",
    "\n",
    "Run the cells in this section to install the packages needed by the notebooks in this workshop. ⚠️ You will see pip dependency errors, you can safely ignore these errors. ⚠️\n",
    "\n",
    "IGNORE ERROR: pip's dependency resolver does not currently take into account all the packages that are installed. This behaviour is the source of the following dependency conflicts."
   ]
  },
  {
   "cell_type": "code",
   "execution_count": null,
   "id": "108c611c-7246-45c4-9f1e-76888b5076eb",
   "metadata": {
    "tags": []
   },
   "outputs": [],
   "source": [
    "%pip install --no-build-isolation --force-reinstall \\\n",
    "    \"boto3>=1.28.57\" \\\n",
    "    \"awscli>=1.29.57\" \\\n",
    "    \"botocore>=1.31.57\"\n"
   ]
  },
  {
   "cell_type": "markdown",
   "id": "27610c0f-7de6-4440-8f76-decf30e3c5ca",
   "metadata": {},
   "source": [
    "---\n",
    "\n",
    "## Create the boto3 client\n",
    "\n",
    "Interaction with the Bedrock API is done via the AWS SDK for Python: [boto3](https://boto3.amazonaws.com/v1/documentation/api/latest/index.html).\n",
    "\n",
    "#### Use different clients\n",
    "The boto3 provides different clients for Amazon Bedrock to perform different actions. The actions for [`InvokeModel`](https://docs.aws.amazon.com/bedrock/latest/APIReference/API_runtime_InvokeModel.html) and [`InvokeModelWithResponseStream`](https://docs.aws.amazon.com/bedrock/latest/APIReference/API_runtime_InvokeModelWithResponseStream.html) are supported by Amazon Bedrock Runtime where as other operations, such as [ListFoundationModels](https://docs.aws.amazon.com/bedrock/latest/APIReference/API_ListFoundationModels.html), are handled via [Amazon Bedrock client](https://docs.aws.amazon.com/bedrock/latest/APIReference/API_Operations_Amazon_Bedrock.html).\n",
    "\n",
    "\n",
    "#### Use the default credential chain\n",
    "\n",
    "If you are running this notebook from [Amazon Sagemaker Studio](https://aws.amazon.com/sagemaker/studio/) and your Sagemaker Studio [execution role](https://docs.aws.amazon.com/sagemaker/latest/dg/sagemaker-roles.html) has permissions to access Bedrock you can just run the cells below as-is. This is also the case if you are running these notebooks from a computer whose default AWS credentials have access to Bedrock.\n",
    "\n"
   ]
  },
  {
   "cell_type": "code",
   "execution_count": null,
   "id": "ae2b2a05-78a9-40ca-9b5e-121030f9ede1",
   "metadata": {
    "tags": []
   },
   "outputs": [],
   "source": [
    "import json\n",
    "import os\n",
    "import sys\n",
    "\n",
    "import boto3\n",
    "\n",
    "boto3_bedrock = boto3.client('bedrock')"
   ]
  },
  {
   "cell_type": "markdown",
   "id": "9e9174c4-326a-463e-92e1-8c7e47111269",
   "metadata": {},
   "source": [
    "#### Validate the connection\n",
    "\n",
    "We can check the client works by trying out the `list_foundation_models()` method, which will tell us all the models available for us to use "
   ]
  },
  {
   "cell_type": "code",
   "execution_count": null,
   "id": "f67b4466-12ff-4975-9811-7a19c6206604",
   "metadata": {
    "tags": []
   },
   "outputs": [],
   "source": [
    "boto3_bedrock.list_foundation_models()\n"
   ]
  },
  {
   "cell_type": "markdown",
   "id": "ce22c308-ebbf-4ef5-a823-832b7c236e31",
   "metadata": {},
   "source": [
    "---\n",
    "\n",
    "## Lab 1 - Text Summarization in Bedrock\n",
    "\n",
    "Picture yourself at a movie studio, or maybe a video streaming company. You get synopses all the time, and hardly have time to read them. In this Lab you will use Foundation Models (FMs) in Amazon Bedrock to summarize synopsis, so it is much easier to read and digest.\n",
    "\n",
    "Here is a [Synopsis for the movie Whiplash](https://www.scriptreaderpro.com/wp-content/uploads/2019/07/Film-Synopsis-Example-Whiplash.pdf). We will use it below.\n",
    "\n"
   ]
  },
  {
   "cell_type": "code",
   "execution_count": null,
   "id": "6a0a79b9",
   "metadata": {
    "tags": []
   },
   "outputs": [],
   "source": [
    "import boto3\n",
    "import botocore\n",
    "import json \n",
    "\n",
    "bedrock_runtime = boto3.client('bedrock-runtime')\n"
   ]
  },
  {
   "cell_type": "markdown",
   "id": "893872fe-04fa-4f09-9736-6c6173ec1fc2",
   "metadata": {
    "tags": []
   },
   "source": [
    "### Amazon Titan Large"
   ]
  },
  {
   "cell_type": "code",
   "execution_count": null,
   "id": "7df55eed-a3cf-426c-95ea-ec60dade6477",
   "metadata": {
    "tags": []
   },
   "outputs": [],
   "source": [
    "prompt_data = \"\"\"\n",
    "Summarize the following text:\n",
    "<text>\n",
    "Andrew Neiman, a young jazz student at the Shaffer Conservatory in New York, has one dream:\n",
    "to go down in history as one of the world’s best drummers. He’s therefore thrilled when Terence\n",
    "Fletcher, a famous conductor, invites him to join the conservatory’s Studio Band as a core\n",
    "alternate drummer. Fletcher, however, turns out to be anything but an ordinary teacher. He’s a\n",
    "sadistic tyrant and Andrew realizes just how much of one when he has a chair hurled at him for\n",
    "failing to keep time.\n",
    "At a jazz competition, Andrew misplaces the sheet music to “Whiplash,” meaning their core\n",
    "drummer can’t play. Andrew, however, can—from memory—and after a first class performance,\n",
    "Fletcher promotes him to core drummer. But Andrew’s joy won’t last long… In a typically\n",
    "twisted move, Fletcher bumps Andrew back down to alternate drummer, putting a much lesstalented musician in his place. More determined than ever, Andrew breaks up with his girlfriend\n",
    "and practices until his hands bleed. It pays off… After a grueling five-hour audition, during\n",
    "which Fletcher kicks furniture and screams at him, Andrew earns back the core spot.\n",
    "Andrew arrives late for another competition after his bus breaks down, hires a car, then realizes\n",
    "he left his drumsticks at the car rental office. He races back, retrieves them, but on his way to\n",
    "the theater, his car is broadsided by a semi. He crawls from the wreckage and runs the rest of\n",
    "the way, finally arriving on stage bloody and injured. When he struggles to play, Fletcher cooly\n",
    "dismisses him. Enraged, Andrew attacks Fletcher in front of the audience, which gets him\n",
    "dismissed from the school.\n",
    "Andrew files an ethics complaint against Shaffer Conservatory and learns that one of Fletcher’s\n",
    "former students hanged himself due to his emotional and physical abuse. Andrew agrees to\n",
    "testify as an anonymous witness and Fletcher is fired. Andrew gives up drumming and, months\n",
    "later, stumbles upon Fletcher playing piano in a jazz club. They go for a drink, during which\n",
    "Fletcher explains why he pushed his students so hard: so that they might become the next\n",
    "Charlie Parker. In Fletcher’s eyes the greats like Parker wouldn’t be discouraged by anything.\n",
    "He then invites Andrew to drum with his band at a jazz festival. Has Fletcher changed? Andrew\n",
    "thinks so, and accepts.\n",
    "On stage at the festival, Fletcher has two surprises for Andrew. One: he knows he testified\n",
    "against him, and two: they’re starting with a piece Andrew doesn’t know and for which there’s\n",
    "no sheet music. Unable to play, Andrew leaves the stage humiliated. But he returns, interrupts\n",
    "Fletcher and cues the band, before launching into a breathtaking solo. Fletcher is taken aback,\n",
    "but in that moment realizes the enormity of Andrew’s talent and begins to guide him. As\n",
    "Andrew ends his solo, they share a smile and Fletcher cues the finale.\n",
    "</text>\n",
    "\n",
    "\"\"\""
   ]
  },
  {
   "cell_type": "markdown",
   "id": "174a8eb1-f9a4-4946-bfe2-550d21487f48",
   "metadata": {},
   "source": [
    "Next, we will construct the body and response to pass the prompt above to the Cohere Command text model."
   ]
  },
  {
   "cell_type": "code",
   "execution_count": null,
   "id": "dd2bb671-6b10-4948-9e5e-95d6ced3b86f",
   "metadata": {
    "tags": []
   },
   "outputs": [],
   "source": [
    "try:\n",
    "\n",
    "    body = json.dumps({\n",
    "      \"prompt\": prompt_data,\n",
    "      \"max_tokens\":400,\n",
    "      \"temperature\":0.2 \n",
    "    })\n",
    "\n",
    "    response = bedrock_runtime.invoke_model(\n",
    "      body=body,\n",
    "\t  modelId=\"cohere.command-text-v14\", \n",
    "      accept= \"*/*\", \n",
    "      contentType=\"application/json\"\n",
    "    )\n",
    "\n",
    "    response_body = json.loads(response.get('body').read())\n",
    "    parse_text = response_body['generations'][0]['text']\n",
    "    parse_text\n",
    "\n",
    "    print(parse_text)\n",
    "    \n",
    "except botocore.exceptions.ClientError as error:\n",
    "\n",
    "    if error.response['Error']['Code'] == 'AccessDeniedException':\n",
    "           print(f\"\\x1b[41m{error.response['Error']['Message']}\\\n",
    "                \\nTo troubeshoot this issue please refer to the following resources.\\\n",
    "                 \\nhttps://docs.aws.amazon.com/IAM/latest/UserGuide/troubleshoot_access-denied.html\\\n",
    "                 \\nhttps://docs.aws.amazon.com/bedrock/latest/userguide/security-iam.html\\x1b[0m\\n\")\n",
    "\n",
    "    else:\n",
    "        raise error"
   ]
  },
  {
   "cell_type": "markdown",
   "id": "ae706235",
   "metadata": {},
   "source": [
    "## Refine the output\n",
    "\n",
    "This is good, but there are ways to refine this result.\n",
    "\n",
    "## Prompt engineering\n",
    "Prompt engineering is a discipline focused on developing optimized prompts to efficiently apply language models to various tasks.\n",
    "\n",
    "Try the same synopsis, but this time followed by \"Summarize the text above in one sentence:\"."
   ]
  },
  {
   "cell_type": "code",
   "execution_count": null,
   "id": "a8d0d4e5",
   "metadata": {},
   "outputs": [],
   "source": [
    "prompt_data = \"\"\"\n",
    "Summarize the following text in one sentence:\n",
    "<text>\n",
    "Andrew Neiman, a young jazz student at the Shaffer Conservatory in New York, has one dream:\n",
    "to go down in history as one of the world’s best drummers. He’s therefore thrilled when Terence\n",
    "Fletcher, a famous conductor, invites him to join the conservatory’s Studio Band as a core\n",
    "alternate drummer. Fletcher, however, turns out to be anything but an ordinary teacher. He’s a\n",
    "sadistic tyrant and Andrew realizes just how much of one when he has a chair hurled at him for\n",
    "failing to keep time.\n",
    "At a jazz competition, Andrew misplaces the sheet music to “Whiplash,” meaning their core\n",
    "drummer can’t play. Andrew, however, can—from memory—and after a first class performance,\n",
    "Fletcher promotes him to core drummer. But Andrew’s joy won’t last long… In a typically\n",
    "twisted move, Fletcher bumps Andrew back down to alternate drummer, putting a much lesstalented musician in his place. More determined than ever, Andrew breaks up with his girlfriend\n",
    "and practices until his hands bleed. It pays off… After a grueling five-hour audition, during\n",
    "which Fletcher kicks furniture and screams at him, Andrew earns back the core spot.\n",
    "Andrew arrives late for another competition after his bus breaks down, hires a car, then realizes\n",
    "he left his drumsticks at the car rental office. He races back, retrieves them, but on his way to\n",
    "the theater, his car is broadsided by a semi. He crawls from the wreckage and runs the rest of\n",
    "the way, finally arriving on stage bloody and injured. When he struggles to play, Fletcher cooly\n",
    "dismisses him. Enraged, Andrew attacks Fletcher in front of the audience, which gets him\n",
    "dismissed from the school.\n",
    "Andrew files an ethics complaint against Shaffer Conservatory and learns that one of Fletcher’s\n",
    "former students hanged himself due to his emotional and physical abuse. Andrew agrees to\n",
    "testify as an anonymous witness and Fletcher is fired. Andrew gives up drumming and, months\n",
    "later, stumbles upon Fletcher playing piano in a jazz club. They go for a drink, during which\n",
    "Fletcher explains why he pushed his students so hard: so that they might become the next\n",
    "Charlie Parker. In Fletcher’s eyes the greats like Parker wouldn’t be discouraged by anything.\n",
    "He then invites Andrew to drum with his band at a jazz festival. Has Fletcher changed? Andrew\n",
    "thinks so, and accepts.\n",
    "On stage at the festival, Fletcher has two surprises for Andrew. One: he knows he testified\n",
    "against him, and two: they’re starting with a piece Andrew doesn’t know and for which there’s\n",
    "no sheet music. Unable to play, Andrew leaves the stage humiliated. But he returns, interrupts\n",
    "Fletcher and cues the band, before launching into a breathtaking solo. Fletcher is taken aback,\n",
    "but in that moment realizes the enormity of Andrew’s talent and begins to guide him. As\n",
    "Andrew ends his solo, they share a smile and Fletcher cues the finale.\n",
    "</text>\n",
    "\n",
    "\"\"\""
   ]
  },
  {
   "cell_type": "code",
   "execution_count": null,
   "id": "9dc0cc19",
   "metadata": {},
   "outputs": [],
   "source": [
    "try:\n",
    "\n",
    "    body = json.dumps({\n",
    "      \"prompt\": prompt_data,\n",
    "      \"max_tokens\":400,\n",
    "      \"temperature\":0.2 \n",
    "    })\n",
    "\n",
    "    response = bedrock_runtime.invoke_model(\n",
    "      body=body,\n",
    "\t  modelId=\"cohere.command-text-v14\", \n",
    "      accept= \"*/*\", \n",
    "      contentType=\"application/json\"\n",
    "    )\n",
    "\n",
    "    response_body = json.loads(response.get('body').read())\n",
    "    parse_text = response_body['generations'][0]['text']\n",
    "    parse_text\n",
    "\n",
    "    print(parse_text)\n",
    "    \n",
    "except botocore.exceptions.ClientError as error:\n",
    "\n",
    "    if error.response['Error']['Code'] == 'AccessDeniedException':\n",
    "           print(f\"\\x1b[41m{error.response['Error']['Message']}\\\n",
    "                \\nTo troubeshoot this issue please refer to the following resources.\\\n",
    "                 \\nhttps://docs.aws.amazon.com/IAM/latest/UserGuide/troubleshoot_access-denied.html\\\n",
    "                 \\nhttps://docs.aws.amazon.com/bedrock/latest/userguide/security-iam.html\\x1b[0m\\n\")\n",
    "\n",
    "    else:\n",
    "        raise error"
   ]
  },
  {
   "cell_type": "markdown",
   "id": "2a45fbfd",
   "metadata": {},
   "source": [
    "## Your turn \n",
    "\n",
    "Modify the prompt below to output the summary into one paragraph with output similar to the one below:\n",
    "\n",
    "_Andrew Neiman is a young drummer who dreams of greatness. He joins the Shaffer Conservatory in New York and is invited to join a band led by the conductor Terence Fletcher. However, Fletcher turns out to be a tyrannical and sadistic bandleader who abuses his students. Despite this, Andrew is determined to succeed and works hard to impress Fletcher. He is eventually promoted to core drummer but is later demoted. This motivates Andrew to practice even harder, and he eventually earns back his core spot. However, Fletcher continues to abuse him, and Andrew eventually testifies against him, leading to Fletcher's dismissal from the school. Months later, Andrew encounters Fletcher again and decides to give him a chance, but Fletcher retaliates by setting up a situation where Andrew fails again. However, Andrew manages to turn the situation around and impresses Fletcher in the end._"
   ]
  },
  {
   "cell_type": "code",
   "execution_count": null,
   "id": "e8d3a19a",
   "metadata": {},
   "outputs": [],
   "source": [
    "prompt_data = \"\"\"\n",
    "Add your prompt here:\n",
    "<text>\n",
    "Andrew Neiman, a young jazz student at the Shaffer Conservatory in New York, has one dream:\n",
    "to go down in history as one of the world’s best drummers. He’s therefore thrilled when Terence\n",
    "Fletcher, a famous conductor, invites him to join the conservatory’s Studio Band as a core\n",
    "alternate drummer. Fletcher, however, turns out to be anything but an ordinary teacher. He’s a\n",
    "sadistic tyrant and Andrew realizes just how much of one when he has a chair hurled at him for\n",
    "failing to keep time.\n",
    "At a jazz competition, Andrew misplaces the sheet music to “Whiplash,” meaning their core\n",
    "drummer can’t play. Andrew, however, can—from memory—and after a first class performance,\n",
    "Fletcher promotes him to core drummer. But Andrew’s joy won’t last long… In a typically\n",
    "twisted move, Fletcher bumps Andrew back down to alternate drummer, putting a much lesstalented musician in his place. More determined than ever, Andrew breaks up with his girlfriend\n",
    "and practices until his hands bleed. It pays off… After a grueling five-hour audition, during\n",
    "which Fletcher kicks furniture and screams at him, Andrew earns back the core spot.\n",
    "Andrew arrives late for another competition after his bus breaks down, hires a car, then realizes\n",
    "he left his drumsticks at the car rental office. He races back, retrieves them, but on his way to\n",
    "the theater, his car is broadsided by a semi. He crawls from the wreckage and runs the rest of\n",
    "the way, finally arriving on stage bloody and injured. When he struggles to play, Fletcher cooly\n",
    "dismisses him. Enraged, Andrew attacks Fletcher in front of the audience, which gets him\n",
    "dismissed from the school.\n",
    "Andrew files an ethics complaint against Shaffer Conservatory and learns that one of Fletcher’s\n",
    "former students hanged himself due to his emotional and physical abuse. Andrew agrees to\n",
    "testify as an anonymous witness and Fletcher is fired. Andrew gives up drumming and, months\n",
    "later, stumbles upon Fletcher playing piano in a jazz club. They go for a drink, during which\n",
    "Fletcher explains why he pushed his students so hard: so that they might become the next\n",
    "Charlie Parker. In Fletcher’s eyes the greats like Parker wouldn’t be discouraged by anything.\n",
    "He then invites Andrew to drum with his band at a jazz festival. Has Fletcher changed? Andrew\n",
    "thinks so, and accepts.\n",
    "On stage at the festival, Fletcher has two surprises for Andrew. One: he knows he testified\n",
    "against him, and two: they’re starting with a piece Andrew doesn’t know and for which there’s\n",
    "no sheet music. Unable to play, Andrew leaves the stage humiliated. But he returns, interrupts\n",
    "Fletcher and cues the band, before launching into a breathtaking solo. Fletcher is taken aback,\n",
    "but in that moment realizes the enormity of Andrew’s talent and begins to guide him. As\n",
    "Andrew ends his solo, they share a smile and Fletcher cues the finale.\n",
    "</text>\n",
    "\n",
    "\"\"\""
   ]
  },
  {
   "cell_type": "code",
   "execution_count": null,
   "id": "1f8749f9",
   "metadata": {},
   "outputs": [],
   "source": [
    "try:\n",
    "\n",
    "    body = json.dumps({\n",
    "      \"prompt\": prompt_data,\n",
    "      \"max_tokens\":400,\n",
    "      \"temperature\":0.2 \n",
    "    })\n",
    "\n",
    "    response = bedrock_runtime.invoke_model(\n",
    "      body=body,\n",
    "\t  modelId=\"cohere.command-text-v14\", \n",
    "      accept= \"*/*\", \n",
    "      contentType=\"application/json\"\n",
    "    )\n",
    "\n",
    "    response_body = json.loads(response.get('body').read())\n",
    "    parse_text = response_body['generations'][0]['text']\n",
    "    parse_text\n",
    "\n",
    "    print(parse_text)\n",
    "    \n",
    "except botocore.exceptions.ClientError as error:\n",
    "\n",
    "    if error.response['Error']['Code'] == 'AccessDeniedException':\n",
    "           print(f\"\\x1b[41m{error.response['Error']['Message']}\\\n",
    "                \\nTo troubeshoot this issue please refer to the following resources.\\\n",
    "                 \\nhttps://docs.aws.amazon.com/IAM/latest/UserGuide/troubleshoot_access-denied.html\\\n",
    "                 \\nhttps://docs.aws.amazon.com/bedrock/latest/userguide/security-iam.html\\x1b[0m\\n\")\n",
    "\n",
    "    else:\n",
    "        raise error"
   ]
  },
  {
   "cell_type": "markdown",
   "id": "05f659f9",
   "metadata": {},
   "source": [
    "## Changing prompt parameters.\n",
    "Lets see what happens if we change the prompt parameters.\n",
    "\n",
    "Below we are going to change the max_tokens to 50 lets see what happens.\n"
   ]
  },
  {
   "cell_type": "code",
   "execution_count": null,
   "id": "13bc4c6f",
   "metadata": {},
   "outputs": [],
   "source": [
    "prompt_data = \"\"\"\n",
    "Summarize the following text as one paragraph:\n",
    "<text>\n",
    "Andrew Neiman, a young jazz student at the Shaffer Conservatory in New York, has one dream:\n",
    "to go down in history as one of the world’s best drummers. He’s therefore thrilled when Terence\n",
    "Fletcher, a famous conductor, invites him to join the conservatory’s Studio Band as a core\n",
    "alternate drummer. Fletcher, however, turns out to be anything but an ordinary teacher. He’s a\n",
    "sadistic tyrant and Andrew realizes just how much of one when he has a chair hurled at him for\n",
    "failing to keep time.\n",
    "At a jazz competition, Andrew misplaces the sheet music to “Whiplash,” meaning their core\n",
    "drummer can’t play. Andrew, however, can—from memory—and after a first class performance,\n",
    "Fletcher promotes him to core drummer. But Andrew’s joy won’t last long… In a typically\n",
    "twisted move, Fletcher bumps Andrew back down to alternate drummer, putting a much lesstalented musician in his place. More determined than ever, Andrew breaks up with his girlfriend\n",
    "and practices until his hands bleed. It pays off… After a grueling five-hour audition, during\n",
    "which Fletcher kicks furniture and screams at him, Andrew earns back the core spot.\n",
    "Andrew arrives late for another competition after his bus breaks down, hires a car, then realizes\n",
    "he left his drumsticks at the car rental office. He races back, retrieves them, but on his way to\n",
    "the theater, his car is broadsided by a semi. He crawls from the wreckage and runs the rest of\n",
    "the way, finally arriving on stage bloody and injured. When he struggles to play, Fletcher cooly\n",
    "dismisses him. Enraged, Andrew attacks Fletcher in front of the audience, which gets him\n",
    "dismissed from the school.\n",
    "Andrew files an ethics complaint against Shaffer Conservatory and learns that one of Fletcher’s\n",
    "former students hanged himself due to his emotional and physical abuse. Andrew agrees to\n",
    "testify as an anonymous witness and Fletcher is fired. Andrew gives up drumming and, months\n",
    "later, stumbles upon Fletcher playing piano in a jazz club. They go for a drink, during which\n",
    "Fletcher explains why he pushed his students so hard: so that they might become the next\n",
    "Charlie Parker. In Fletcher’s eyes the greats like Parker wouldn’t be discouraged by anything.\n",
    "He then invites Andrew to drum with his band at a jazz festival. Has Fletcher changed? Andrew\n",
    "thinks so, and accepts.\n",
    "On stage at the festival, Fletcher has two surprises for Andrew. One: he knows he testified\n",
    "against him, and two: they’re starting with a piece Andrew doesn’t know and for which there’s\n",
    "no sheet music. Unable to play, Andrew leaves the stage humiliated. But he returns, interrupts\n",
    "Fletcher and cues the band, before launching into a breathtaking solo. Fletcher is taken aback,\n",
    "but in that moment realizes the enormity of Andrew’s talent and begins to guide him. As\n",
    "Andrew ends his solo, they share a smile and Fletcher cues the finale.\n",
    "</text>\n",
    "\n",
    "\"\"\""
   ]
  },
  {
   "cell_type": "code",
   "execution_count": null,
   "id": "9adf04e2",
   "metadata": {},
   "outputs": [],
   "source": [
    "try:\n",
    "\n",
    "    body = json.dumps({\n",
    "      \"prompt\": prompt_data,\n",
    "      \"max_tokens\":50,\n",
    "      \"temperature\":0.2 \n",
    "    })\n",
    "\n",
    "    response = bedrock_runtime.invoke_model(\n",
    "      body=body,\n",
    "\t  modelId=\"cohere.command-text-v14\", \n",
    "      accept= \"*/*\", \n",
    "      contentType=\"application/json\"\n",
    "    )\n",
    "\n",
    "    response_body = json.loads(response.get('body').read())\n",
    "    parse_text = response_body['generations'][0]['text']\n",
    "    parse_text\n",
    "\n",
    "    print(parse_text)\n",
    "    \n",
    "except botocore.exceptions.ClientError as error:\n",
    "\n",
    "    if error.response['Error']['Code'] == 'AccessDeniedException':\n",
    "           print(f\"\\x1b[41m{error.response['Error']['Message']}\\\n",
    "                \\nTo troubeshoot this issue please refer to the following resources.\\\n",
    "                 \\nhttps://docs.aws.amazon.com/IAM/latest/UserGuide/troubleshoot_access-denied.html\\\n",
    "                 \\nhttps://docs.aws.amazon.com/bedrock/latest/userguide/security-iam.html\\x1b[0m\\n\")\n",
    "\n",
    "    else:\n",
    "        raise error"
   ]
  },
  {
   "cell_type": "markdown",
   "id": "593c440f",
   "metadata": {},
   "source": [
    "----\n",
    "# Lab 2\n"
   ]
  }
 ],
 "metadata": {
  "availableInstances": [
   {
    "_defaultOrder": 0,
    "_isFastLaunch": true,
    "category": "General purpose",
    "gpuNum": 0,
    "hideHardwareSpecs": false,
    "memoryGiB": 4,
    "name": "ml.t3.medium",
    "vcpuNum": 2
   },
   {
    "_defaultOrder": 1,
    "_isFastLaunch": false,
    "category": "General purpose",
    "gpuNum": 0,
    "hideHardwareSpecs": false,
    "memoryGiB": 8,
    "name": "ml.t3.large",
    "vcpuNum": 2
   },
   {
    "_defaultOrder": 2,
    "_isFastLaunch": false,
    "category": "General purpose",
    "gpuNum": 0,
    "hideHardwareSpecs": false,
    "memoryGiB": 16,
    "name": "ml.t3.xlarge",
    "vcpuNum": 4
   },
   {
    "_defaultOrder": 3,
    "_isFastLaunch": false,
    "category": "General purpose",
    "gpuNum": 0,
    "hideHardwareSpecs": false,
    "memoryGiB": 32,
    "name": "ml.t3.2xlarge",
    "vcpuNum": 8
   },
   {
    "_defaultOrder": 4,
    "_isFastLaunch": true,
    "category": "General purpose",
    "gpuNum": 0,
    "hideHardwareSpecs": false,
    "memoryGiB": 8,
    "name": "ml.m5.large",
    "vcpuNum": 2
   },
   {
    "_defaultOrder": 5,
    "_isFastLaunch": false,
    "category": "General purpose",
    "gpuNum": 0,
    "hideHardwareSpecs": false,
    "memoryGiB": 16,
    "name": "ml.m5.xlarge",
    "vcpuNum": 4
   },
   {
    "_defaultOrder": 6,
    "_isFastLaunch": false,
    "category": "General purpose",
    "gpuNum": 0,
    "hideHardwareSpecs": false,
    "memoryGiB": 32,
    "name": "ml.m5.2xlarge",
    "vcpuNum": 8
   },
   {
    "_defaultOrder": 7,
    "_isFastLaunch": false,
    "category": "General purpose",
    "gpuNum": 0,
    "hideHardwareSpecs": false,
    "memoryGiB": 64,
    "name": "ml.m5.4xlarge",
    "vcpuNum": 16
   },
   {
    "_defaultOrder": 8,
    "_isFastLaunch": false,
    "category": "General purpose",
    "gpuNum": 0,
    "hideHardwareSpecs": false,
    "memoryGiB": 128,
    "name": "ml.m5.8xlarge",
    "vcpuNum": 32
   },
   {
    "_defaultOrder": 9,
    "_isFastLaunch": false,
    "category": "General purpose",
    "gpuNum": 0,
    "hideHardwareSpecs": false,
    "memoryGiB": 192,
    "name": "ml.m5.12xlarge",
    "vcpuNum": 48
   },
   {
    "_defaultOrder": 10,
    "_isFastLaunch": false,
    "category": "General purpose",
    "gpuNum": 0,
    "hideHardwareSpecs": false,
    "memoryGiB": 256,
    "name": "ml.m5.16xlarge",
    "vcpuNum": 64
   },
   {
    "_defaultOrder": 11,
    "_isFastLaunch": false,
    "category": "General purpose",
    "gpuNum": 0,
    "hideHardwareSpecs": false,
    "memoryGiB": 384,
    "name": "ml.m5.24xlarge",
    "vcpuNum": 96
   },
   {
    "_defaultOrder": 12,
    "_isFastLaunch": false,
    "category": "General purpose",
    "gpuNum": 0,
    "hideHardwareSpecs": false,
    "memoryGiB": 8,
    "name": "ml.m5d.large",
    "vcpuNum": 2
   },
   {
    "_defaultOrder": 13,
    "_isFastLaunch": false,
    "category": "General purpose",
    "gpuNum": 0,
    "hideHardwareSpecs": false,
    "memoryGiB": 16,
    "name": "ml.m5d.xlarge",
    "vcpuNum": 4
   },
   {
    "_defaultOrder": 14,
    "_isFastLaunch": false,
    "category": "General purpose",
    "gpuNum": 0,
    "hideHardwareSpecs": false,
    "memoryGiB": 32,
    "name": "ml.m5d.2xlarge",
    "vcpuNum": 8
   },
   {
    "_defaultOrder": 15,
    "_isFastLaunch": false,
    "category": "General purpose",
    "gpuNum": 0,
    "hideHardwareSpecs": false,
    "memoryGiB": 64,
    "name": "ml.m5d.4xlarge",
    "vcpuNum": 16
   },
   {
    "_defaultOrder": 16,
    "_isFastLaunch": false,
    "category": "General purpose",
    "gpuNum": 0,
    "hideHardwareSpecs": false,
    "memoryGiB": 128,
    "name": "ml.m5d.8xlarge",
    "vcpuNum": 32
   },
   {
    "_defaultOrder": 17,
    "_isFastLaunch": false,
    "category": "General purpose",
    "gpuNum": 0,
    "hideHardwareSpecs": false,
    "memoryGiB": 192,
    "name": "ml.m5d.12xlarge",
    "vcpuNum": 48
   },
   {
    "_defaultOrder": 18,
    "_isFastLaunch": false,
    "category": "General purpose",
    "gpuNum": 0,
    "hideHardwareSpecs": false,
    "memoryGiB": 256,
    "name": "ml.m5d.16xlarge",
    "vcpuNum": 64
   },
   {
    "_defaultOrder": 19,
    "_isFastLaunch": false,
    "category": "General purpose",
    "gpuNum": 0,
    "hideHardwareSpecs": false,
    "memoryGiB": 384,
    "name": "ml.m5d.24xlarge",
    "vcpuNum": 96
   },
   {
    "_defaultOrder": 20,
    "_isFastLaunch": false,
    "category": "General purpose",
    "gpuNum": 0,
    "hideHardwareSpecs": true,
    "memoryGiB": 0,
    "name": "ml.geospatial.interactive",
    "supportedImageNames": [
     "sagemaker-geospatial-v1-0"
    ],
    "vcpuNum": 0
   },
   {
    "_defaultOrder": 21,
    "_isFastLaunch": true,
    "category": "Compute optimized",
    "gpuNum": 0,
    "hideHardwareSpecs": false,
    "memoryGiB": 4,
    "name": "ml.c5.large",
    "vcpuNum": 2
   },
   {
    "_defaultOrder": 22,
    "_isFastLaunch": false,
    "category": "Compute optimized",
    "gpuNum": 0,
    "hideHardwareSpecs": false,
    "memoryGiB": 8,
    "name": "ml.c5.xlarge",
    "vcpuNum": 4
   },
   {
    "_defaultOrder": 23,
    "_isFastLaunch": false,
    "category": "Compute optimized",
    "gpuNum": 0,
    "hideHardwareSpecs": false,
    "memoryGiB": 16,
    "name": "ml.c5.2xlarge",
    "vcpuNum": 8
   },
   {
    "_defaultOrder": 24,
    "_isFastLaunch": false,
    "category": "Compute optimized",
    "gpuNum": 0,
    "hideHardwareSpecs": false,
    "memoryGiB": 32,
    "name": "ml.c5.4xlarge",
    "vcpuNum": 16
   },
   {
    "_defaultOrder": 25,
    "_isFastLaunch": false,
    "category": "Compute optimized",
    "gpuNum": 0,
    "hideHardwareSpecs": false,
    "memoryGiB": 72,
    "name": "ml.c5.9xlarge",
    "vcpuNum": 36
   },
   {
    "_defaultOrder": 26,
    "_isFastLaunch": false,
    "category": "Compute optimized",
    "gpuNum": 0,
    "hideHardwareSpecs": false,
    "memoryGiB": 96,
    "name": "ml.c5.12xlarge",
    "vcpuNum": 48
   },
   {
    "_defaultOrder": 27,
    "_isFastLaunch": false,
    "category": "Compute optimized",
    "gpuNum": 0,
    "hideHardwareSpecs": false,
    "memoryGiB": 144,
    "name": "ml.c5.18xlarge",
    "vcpuNum": 72
   },
   {
    "_defaultOrder": 28,
    "_isFastLaunch": false,
    "category": "Compute optimized",
    "gpuNum": 0,
    "hideHardwareSpecs": false,
    "memoryGiB": 192,
    "name": "ml.c5.24xlarge",
    "vcpuNum": 96
   },
   {
    "_defaultOrder": 29,
    "_isFastLaunch": true,
    "category": "Accelerated computing",
    "gpuNum": 1,
    "hideHardwareSpecs": false,
    "memoryGiB": 16,
    "name": "ml.g4dn.xlarge",
    "vcpuNum": 4
   },
   {
    "_defaultOrder": 30,
    "_isFastLaunch": false,
    "category": "Accelerated computing",
    "gpuNum": 1,
    "hideHardwareSpecs": false,
    "memoryGiB": 32,
    "name": "ml.g4dn.2xlarge",
    "vcpuNum": 8
   },
   {
    "_defaultOrder": 31,
    "_isFastLaunch": false,
    "category": "Accelerated computing",
    "gpuNum": 1,
    "hideHardwareSpecs": false,
    "memoryGiB": 64,
    "name": "ml.g4dn.4xlarge",
    "vcpuNum": 16
   },
   {
    "_defaultOrder": 32,
    "_isFastLaunch": false,
    "category": "Accelerated computing",
    "gpuNum": 1,
    "hideHardwareSpecs": false,
    "memoryGiB": 128,
    "name": "ml.g4dn.8xlarge",
    "vcpuNum": 32
   },
   {
    "_defaultOrder": 33,
    "_isFastLaunch": false,
    "category": "Accelerated computing",
    "gpuNum": 4,
    "hideHardwareSpecs": false,
    "memoryGiB": 192,
    "name": "ml.g4dn.12xlarge",
    "vcpuNum": 48
   },
   {
    "_defaultOrder": 34,
    "_isFastLaunch": false,
    "category": "Accelerated computing",
    "gpuNum": 1,
    "hideHardwareSpecs": false,
    "memoryGiB": 256,
    "name": "ml.g4dn.16xlarge",
    "vcpuNum": 64
   },
   {
    "_defaultOrder": 35,
    "_isFastLaunch": false,
    "category": "Accelerated computing",
    "gpuNum": 1,
    "hideHardwareSpecs": false,
    "memoryGiB": 61,
    "name": "ml.p3.2xlarge",
    "vcpuNum": 8
   },
   {
    "_defaultOrder": 36,
    "_isFastLaunch": false,
    "category": "Accelerated computing",
    "gpuNum": 4,
    "hideHardwareSpecs": false,
    "memoryGiB": 244,
    "name": "ml.p3.8xlarge",
    "vcpuNum": 32
   },
   {
    "_defaultOrder": 37,
    "_isFastLaunch": false,
    "category": "Accelerated computing",
    "gpuNum": 8,
    "hideHardwareSpecs": false,
    "memoryGiB": 488,
    "name": "ml.p3.16xlarge",
    "vcpuNum": 64
   },
   {
    "_defaultOrder": 38,
    "_isFastLaunch": false,
    "category": "Accelerated computing",
    "gpuNum": 8,
    "hideHardwareSpecs": false,
    "memoryGiB": 768,
    "name": "ml.p3dn.24xlarge",
    "vcpuNum": 96
   },
   {
    "_defaultOrder": 39,
    "_isFastLaunch": false,
    "category": "Memory Optimized",
    "gpuNum": 0,
    "hideHardwareSpecs": false,
    "memoryGiB": 16,
    "name": "ml.r5.large",
    "vcpuNum": 2
   },
   {
    "_defaultOrder": 40,
    "_isFastLaunch": false,
    "category": "Memory Optimized",
    "gpuNum": 0,
    "hideHardwareSpecs": false,
    "memoryGiB": 32,
    "name": "ml.r5.xlarge",
    "vcpuNum": 4
   },
   {
    "_defaultOrder": 41,
    "_isFastLaunch": false,
    "category": "Memory Optimized",
    "gpuNum": 0,
    "hideHardwareSpecs": false,
    "memoryGiB": 64,
    "name": "ml.r5.2xlarge",
    "vcpuNum": 8
   },
   {
    "_defaultOrder": 42,
    "_isFastLaunch": false,
    "category": "Memory Optimized",
    "gpuNum": 0,
    "hideHardwareSpecs": false,
    "memoryGiB": 128,
    "name": "ml.r5.4xlarge",
    "vcpuNum": 16
   },
   {
    "_defaultOrder": 43,
    "_isFastLaunch": false,
    "category": "Memory Optimized",
    "gpuNum": 0,
    "hideHardwareSpecs": false,
    "memoryGiB": 256,
    "name": "ml.r5.8xlarge",
    "vcpuNum": 32
   },
   {
    "_defaultOrder": 44,
    "_isFastLaunch": false,
    "category": "Memory Optimized",
    "gpuNum": 0,
    "hideHardwareSpecs": false,
    "memoryGiB": 384,
    "name": "ml.r5.12xlarge",
    "vcpuNum": 48
   },
   {
    "_defaultOrder": 45,
    "_isFastLaunch": false,
    "category": "Memory Optimized",
    "gpuNum": 0,
    "hideHardwareSpecs": false,
    "memoryGiB": 512,
    "name": "ml.r5.16xlarge",
    "vcpuNum": 64
   },
   {
    "_defaultOrder": 46,
    "_isFastLaunch": false,
    "category": "Memory Optimized",
    "gpuNum": 0,
    "hideHardwareSpecs": false,
    "memoryGiB": 768,
    "name": "ml.r5.24xlarge",
    "vcpuNum": 96
   },
   {
    "_defaultOrder": 47,
    "_isFastLaunch": false,
    "category": "Accelerated computing",
    "gpuNum": 1,
    "hideHardwareSpecs": false,
    "memoryGiB": 16,
    "name": "ml.g5.xlarge",
    "vcpuNum": 4
   },
   {
    "_defaultOrder": 48,
    "_isFastLaunch": false,
    "category": "Accelerated computing",
    "gpuNum": 1,
    "hideHardwareSpecs": false,
    "memoryGiB": 32,
    "name": "ml.g5.2xlarge",
    "vcpuNum": 8
   },
   {
    "_defaultOrder": 49,
    "_isFastLaunch": false,
    "category": "Accelerated computing",
    "gpuNum": 1,
    "hideHardwareSpecs": false,
    "memoryGiB": 64,
    "name": "ml.g5.4xlarge",
    "vcpuNum": 16
   },
   {
    "_defaultOrder": 50,
    "_isFastLaunch": false,
    "category": "Accelerated computing",
    "gpuNum": 1,
    "hideHardwareSpecs": false,
    "memoryGiB": 128,
    "name": "ml.g5.8xlarge",
    "vcpuNum": 32
   },
   {
    "_defaultOrder": 51,
    "_isFastLaunch": false,
    "category": "Accelerated computing",
    "gpuNum": 1,
    "hideHardwareSpecs": false,
    "memoryGiB": 256,
    "name": "ml.g5.16xlarge",
    "vcpuNum": 64
   },
   {
    "_defaultOrder": 52,
    "_isFastLaunch": false,
    "category": "Accelerated computing",
    "gpuNum": 4,
    "hideHardwareSpecs": false,
    "memoryGiB": 192,
    "name": "ml.g5.12xlarge",
    "vcpuNum": 48
   },
   {
    "_defaultOrder": 53,
    "_isFastLaunch": false,
    "category": "Accelerated computing",
    "gpuNum": 4,
    "hideHardwareSpecs": false,
    "memoryGiB": 384,
    "name": "ml.g5.24xlarge",
    "vcpuNum": 96
   },
   {
    "_defaultOrder": 54,
    "_isFastLaunch": false,
    "category": "Accelerated computing",
    "gpuNum": 8,
    "hideHardwareSpecs": false,
    "memoryGiB": 768,
    "name": "ml.g5.48xlarge",
    "vcpuNum": 192
   },
   {
    "_defaultOrder": 55,
    "_isFastLaunch": false,
    "category": "Accelerated computing",
    "gpuNum": 8,
    "hideHardwareSpecs": false,
    "memoryGiB": 1152,
    "name": "ml.p4d.24xlarge",
    "vcpuNum": 96
   },
   {
    "_defaultOrder": 56,
    "_isFastLaunch": false,
    "category": "Accelerated computing",
    "gpuNum": 8,
    "hideHardwareSpecs": false,
    "memoryGiB": 1152,
    "name": "ml.p4de.24xlarge",
    "vcpuNum": 96
   },
   {
    "_defaultOrder": 57,
    "_isFastLaunch": false,
    "category": "Accelerated computing",
    "gpuNum": 0,
    "hideHardwareSpecs": false,
    "memoryGiB": 32,
    "name": "ml.trn1.2xlarge",
    "vcpuNum": 8
   },
   {
    "_defaultOrder": 58,
    "_isFastLaunch": false,
    "category": "Accelerated computing",
    "gpuNum": 0,
    "hideHardwareSpecs": false,
    "memoryGiB": 512,
    "name": "ml.trn1.32xlarge",
    "vcpuNum": 128
   },
   {
    "_defaultOrder": 59,
    "_isFastLaunch": false,
    "category": "Accelerated computing",
    "gpuNum": 0,
    "hideHardwareSpecs": false,
    "memoryGiB": 512,
    "name": "ml.trn1n.32xlarge",
    "vcpuNum": 128
   }
  ],
  "instance_type": "ml.t3.medium",
  "kernelspec": {
   "display_name": "Python 3 (Data Science 3.0)",
   "language": "python",
   "name": "python3__SAGEMAKER_INTERNAL__arn:aws:sagemaker:us-east-1:081325390199:image/sagemaker-data-science-310-v1"
  },
  "language_info": {
   "codemirror_mode": {
    "name": "ipython",
    "version": 3
   },
   "file_extension": ".py",
   "mimetype": "text/x-python",
   "name": "python",
   "nbconvert_exporter": "python",
   "pygments_lexer": "ipython3",
   "version": "3.10.6"
  }
 },
 "nbformat": 4,
 "nbformat_minor": 5
}
